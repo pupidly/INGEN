{
 "cells": [
  {
   "cell_type": "markdown",
   "metadata": {
    "id": "Gp2WddtV9IwG"
   },
   "source": [
    "# Programa Ingenias+ Data Science"
   ]
  },
  {
   "cell_type": "markdown",
   "metadata": {
    "id": "H4M1yVbf9IwH"
   },
   "source": [
    "Como dijimos en clases anteriores, Python tiene implementadas muchas librerias para poder trabajar con datos. En la clase de hoy trabajaremos con una de ellas: `Numpy`."
   ]
  },
  {
   "cell_type": "markdown",
   "metadata": {
    "id": "GdTT8WeL9IwI"
   },
   "source": [
    "Antes de comenzar, vamos a hablar un poco de esta libreria o modulo.\n",
    "\n",
    "**Numpy** es una librería optimizada para realizar cálculos numéricos con vectores y matrices. A diferencia de otros lenguajes de programación, Python no posee en su estructura central la figura de matrices. Eso quiere decir que para poder trabajar con esta estructura de datos deberiamos trabajar con listas de listas. NumPy introduce el concepto de arrays o matrices."
   ]
  },
  {
   "cell_type": "markdown",
   "metadata": {
    "id": "qWkq3EHK9IwK"
   },
   "source": [
    "Al ser de código abierto, `numpy` posee una documentación muy amplia que es **SIEMPRE RECOMENDABLE** consultar."
   ]
  },
  {
   "cell_type": "markdown",
   "metadata": {
    "id": "nxe3KLUO9IwL"
   },
   "source": [
    "- [Documentacion NumPy](https://devdocs.io/numpy/)"
   ]
  },
  {
   "cell_type": "markdown",
   "metadata": {
    "id": "l1Ay3nSs9IwN"
   },
   "source": [
    "## Clase 4: Introduccion a NumPy"
   ]
  },
  {
   "cell_type": "markdown",
   "metadata": {
    "id": "X03mviQS9IyL"
   },
   "source": [
    "# Ejercicios\n",
    "\n",
    "1. Crear un arreglo de ceros de longitud 12\n",
    "2. Crear un arreglo de longitud 10 con ceros en todas sus posiciones y un 10 en la posición número 5\n",
    "3. Crear un arreglo que tenga los números del 10 al 49\n",
    "4. Crear una arreglo 2d de shape (3, 3) que tenga los números del 0 al 8\n",
    "5. Crear un arreglo de números aleatorios de longitud 100 y obtener su media y varianza\n",
    "6. Calcular la media de un arreglo usando np.sum\n",
    "7. Calcular la varianza de un arreglo usando np.sum y np.mean\n",
    "8. Crear un array de números aleatorios usando np.random.randn.\n"
   ]
  },
  {
   "cell_type": "code",
   "execution_count": 1,
   "metadata": {
    "id": "G0NMKT609IyM"
   },
   "outputs": [],
   "source": [
    "import numpy as np"
   ]
  },
  {
   "cell_type": "markdown",
   "metadata": {
    "id": "HZCY2z3WukYH"
   },
   "source": [
    "EJERCICIO 1: Crear un arreglo de ceros de longitud 12"
   ]
  },
  {
   "cell_type": "code",
   "execution_count": 2,
   "metadata": {
    "colab": {
     "base_uri": "https://localhost:8080/"
    },
    "id": "De4l-Soaun03",
    "outputId": "cc7996c3-9077-44f6-ec49-d0f0f10fcd42"
   },
   "outputs": [
    {
     "name": "stdout",
     "output_type": "stream",
     "text": [
      "[0. 0. 0. 0. 0. 0. 0. 0. 0. 0. 0. 0.]\n"
     ]
    }
   ],
   "source": [
    "arreglo1 = np.zeros(12)\n",
    "print(arreglo1)"
   ]
  },
  {
   "cell_type": "markdown",
   "metadata": {
    "id": "iGORuKmvu3fS"
   },
   "source": [
    "EJERCICIO 2: Crear un arreglo de longitud 10 con ceros en todas sus posiciones y un 10 en la posición número 5"
   ]
  },
  {
   "cell_type": "code",
   "execution_count": 3,
   "metadata": {
    "colab": {
     "base_uri": "https://localhost:8080/"
    },
    "id": "d-k0KyFgu5A7",
    "outputId": "a47f9807-6f35-410c-abea-e26e6f138978"
   },
   "outputs": [
    {
     "name": "stdout",
     "output_type": "stream",
     "text": [
      "[ 0.  0.  0.  0. 10.  0.  0.  0.  0.  0.]\n"
     ]
    }
   ],
   "source": [
    "arreglo2 = np.zeros(10)\n",
    "arreglo2[4]= 10\n",
    "print(arreglo2)"
   ]
  },
  {
   "cell_type": "markdown",
   "metadata": {
    "id": "bSYTGuiRvhef"
   },
   "source": [
    "EJERCICIO 3: Crear un arreglo que tenga los números del 10 al 49"
   ]
  },
  {
   "cell_type": "code",
   "execution_count": 4,
   "metadata": {
    "colab": {
     "base_uri": "https://localhost:8080/"
    },
    "id": "e0FisD4SvkoC",
    "outputId": "110969ab-300f-40c3-bf8d-ac3ce5da04f9"
   },
   "outputs": [
    {
     "name": "stdout",
     "output_type": "stream",
     "text": [
      "[10 11 12 13 14 15 16 17 18 19 20 21 22 23 24 25 26 27 28 29 30 31 32 33\n",
      " 34 35 36 37 38 39 40 41 42 43 44 45 46 47 48 49]\n"
     ]
    }
   ],
   "source": [
    "arreglo3 = np.arange(10,50)\n",
    "print(arreglo3)"
   ]
  },
  {
   "cell_type": "markdown",
   "metadata": {
    "id": "87B2RiZwwcnB"
   },
   "source": [
    "EJERCICIO 4: Crear una arreglo 2d de shape (3, 3) que tenga los números del 0 al 8"
   ]
  },
  {
   "cell_type": "code",
   "execution_count": 5,
   "metadata": {
    "colab": {
     "base_uri": "https://localhost:8080/"
    },
    "id": "d632to9gweQI",
    "outputId": "4ab4916a-9c97-449f-d0cc-fe49b24bc8b9"
   },
   "outputs": [
    {
     "name": "stdout",
     "output_type": "stream",
     "text": [
      "[[0 1 2]\n",
      " [3 4 5]\n",
      " [6 7 8]]\n"
     ]
    }
   ],
   "source": [
    "arreglo4 = np.arange(9).reshape((3,3))\n",
    "print(arreglo4)"
   ]
  },
  {
   "cell_type": "markdown",
   "metadata": {
    "id": "qdZBpde2xfnn"
   },
   "source": [
    "EJERCICIO 5: Crear un arreglo de números aleatorios de longitud 100 y obtener su media y varianza"
   ]
  },
  {
   "cell_type": "code",
   "execution_count": 12,
   "metadata": {
    "colab": {
     "base_uri": "https://localhost:8080/"
    },
    "id": "m26UNuIaxhRW",
    "outputId": "8935d247-fd79-4d30-a4e1-26e6f122221c"
   },
   "outputs": [
    {
     "name": "stdout",
     "output_type": "stream",
     "text": [
      "0.444804396274482\n",
      "0.08564450814039137\n"
     ]
    }
   ],
   "source": [
    "arreglo5 = np.random.rand(100)\n",
    "print(np.mean(arreglo5))\n",
    "print(np.var(arreglo5))\n",
    "#print(arreglo5)"
   ]
  },
  {
   "cell_type": "markdown",
   "metadata": {
    "id": "dRX3wYKjyvPI"
   },
   "source": [
    "EJERCICIO 6: Calcular la media de un arreglo usando np.sum"
   ]
  },
  {
   "cell_type": "code",
   "execution_count": 13,
   "metadata": {
    "colab": {
     "base_uri": "https://localhost:8080/"
    },
    "id": "zTc-6B6pyxDH",
    "outputId": "b338888c-166e-48c0-cb23-09d9fb5fc456"
   },
   "outputs": [
    {
     "name": "stdout",
     "output_type": "stream",
     "text": [
      "0.444804396274482\n"
     ]
    }
   ],
   "source": [
    "media_calc = np.sum(arreglo5)/len(arreglo5)\n",
    "print(media_calc)"
   ]
  },
  {
   "cell_type": "markdown",
   "metadata": {
    "id": "qNwkXgJDzFFY"
   },
   "source": [
    "EJERCICIO 7: Calcular la varianza de un arreglo usando np.sum y np.mean"
   ]
  },
  {
   "cell_type": "code",
   "execution_count": 14,
   "metadata": {
    "colab": {
     "base_uri": "https://localhost:8080/"
    },
    "id": "VuZsyAuEzG4g",
    "outputId": "e55a0054-6c6f-48e4-d051-f9b1b1a48f4e"
   },
   "outputs": [
    {
     "name": "stdout",
     "output_type": "stream",
     "text": [
      "0.08564450814039137\n"
     ]
    }
   ],
   "source": [
    "media = np.mean(arreglo5)\n",
    "arreglo_int= (arreglo5-media)**2\n",
    "var_calc = (np.sum(arreglo_int)/(len(arreglo5)))\n",
    "\n",
    "print(var_calc)"
   ]
  },
  {
   "cell_type": "markdown",
   "metadata": {
    "id": "KOB6SLF92c61"
   },
   "source": [
    "EJERCICIO 8: Crear un array de números aleatorios usando np.random.randn."
   ]
  },
  {
   "cell_type": "code",
   "execution_count": 9,
   "metadata": {
    "colab": {
     "base_uri": "https://localhost:8080/"
    },
    "id": "6TNBWoQu2fLE",
    "outputId": "83ad6671-1f39-49c0-b99d-f1089c0d43be"
   },
   "outputs": [
    {
     "name": "stdout",
     "output_type": "stream",
     "text": [
      "[ 0.08716249  2.29101625 -0.80347082 -0.36016302 -0.94060847  0.58215014\n",
      "  1.73658415 -0.19963813  1.49941809  0.21973854  1.58398977 -0.77828269\n",
      "  0.85902464 -2.29043497 -0.39572025  0.01081648  0.10664814 -0.46005364\n",
      " -0.54165543 -1.91169326]\n"
     ]
    }
   ],
   "source": [
    "arreglo8 = np.random.randn(20)\n",
    "print(arreglo8)"
   ]
  },
  {
   "cell_type": "code",
   "execution_count": null,
   "metadata": {},
   "outputs": [],
   "source": []
  }
 ],
 "metadata": {
  "colab": {
   "provenance": []
  },
  "kernelspec": {
   "display_name": "Python 3",
   "language": "python",
   "name": "python3"
  },
  "language_info": {
   "codemirror_mode": {
    "name": "ipython",
    "version": 3
   },
   "file_extension": ".py",
   "mimetype": "text/x-python",
   "name": "python",
   "nbconvert_exporter": "python",
   "pygments_lexer": "ipython3",
   "version": "3.8.8"
  }
 },
 "nbformat": 4,
 "nbformat_minor": 1
}
